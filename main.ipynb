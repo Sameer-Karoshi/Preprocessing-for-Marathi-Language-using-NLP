{
  "nbformat": 4,
  "nbformat_minor": 0,
  "metadata": {
    "colab": {
      "name": "Preprocesssing(Marathi_Language)",
      "provenance": []
    },
    "kernelspec": {
      "name": "python3",
      "display_name": "Python 3"
    },
    "language_info": {
      "name": "python"
    }
  },
  "cells": [
    {
      "cell_type": "markdown",
      "metadata": {
        "id": "_E5JEuurIN1f"
      },
    },
    {
      "cell_type": "code",
      "metadata": {
        "colab": {
          "base_uri": "https://localhost:8080/"
        },
        "id": "ZqDcD6YRITXj",
        "outputId": "04fe780d-59cf-4a36-a83a-9da7d00f74d2"
      },
      "source": [
        "pip install stopwordsiso"
      ],
      "execution_count": null,
      "outputs": [
        {
          "output_type": "stream",
          "text": [
            "Collecting stopwordsiso\n",
            "\u001b[?25l  Downloading https://files.pythonhosted.org/packages/3e/03/4c5f24b654bb9459f81aa5c1b60b094b804286b99dca9f2e116c9eb01ac8/stopwordsiso-0.6.1-py3-none-any.whl (73kB)\n",
            "\r\u001b[K     |████▌                           | 10kB 15.3MB/s eta 0:00:01\r\u001b[K     |█████████                       | 20kB 20.2MB/s eta 0:00:01\r\u001b[K     |█████████████▍                  | 30kB 10.1MB/s eta 0:00:01\r\u001b[K     |█████████████████▉              | 40kB 8.7MB/s eta 0:00:01\r\u001b[K     |██████████████████████▎         | 51kB 7.0MB/s eta 0:00:01\r\u001b[K     |██████████████████████████▊     | 61kB 7.8MB/s eta 0:00:01\r\u001b[K     |███████████████████████████████▏| 71kB 7.6MB/s eta 0:00:01\r\u001b[K     |████████████████████████████████| 81kB 4.7MB/s \n",
            "\u001b[?25hInstalling collected packages: stopwordsiso\n",
            "Successfully installed stopwordsiso-0.6.1\n"
          ],
          "name": "stdout"
        }
      ]
    },
    {
      "cell_type": "code",
      "metadata": {
        "id": "O_YaoJXfIcUQ"
      },
      "source": [
        "from stopwordsiso import stopwords"
      ],
      "execution_count": null,
      "outputs": []
    },
    {
      "cell_type": "code",
      "metadata": {
        "colab": {
          "base_uri": "https://localhost:8080/"
        },
        "id": "uPUX1imbIdga",
        "outputId": "b66aa729-4cdc-4eb8-ff47-535bb35e3aea"
      },
      "source": [
        "pip install stanza"
      ],
      "execution_count": null,
      "outputs": [
        {
          "output_type": "stream",
          "text": [
            "Collecting stanza\n",
            "\u001b[?25l  Downloading https://files.pythonhosted.org/packages/50/ae/a70a58ce6b4e2daad538688806ee0f238dbe601954582a74ea57cde6c532/stanza-1.2-py3-none-any.whl (282kB)\n",
            "\r\u001b[K     |█▏                              | 10kB 13.5MB/s eta 0:00:01\r\u001b[K     |██▎                             | 20kB 19.6MB/s eta 0:00:01\r\u001b[K     |███▌                            | 30kB 11.9MB/s eta 0:00:01\r\u001b[K     |████▋                           | 40kB 9.2MB/s eta 0:00:01\r\u001b[K     |█████▉                          | 51kB 8.1MB/s eta 0:00:01\r\u001b[K     |███████                         | 61kB 8.9MB/s eta 0:00:01\r\u001b[K     |████████▏                       | 71kB 7.7MB/s eta 0:00:01\r\u001b[K     |█████████▎                      | 81kB 8.1MB/s eta 0:00:01\r\u001b[K     |██████████▌                     | 92kB 7.9MB/s eta 0:00:01\r\u001b[K     |███████████▋                    | 102kB 7.9MB/s eta 0:00:01\r\u001b[K     |████████████▉                   | 112kB 7.9MB/s eta 0:00:01\r\u001b[K     |██████████████                  | 122kB 7.9MB/s eta 0:00:01\r\u001b[K     |███████████████                 | 133kB 7.9MB/s eta 0:00:01\r\u001b[K     |████████████████▎               | 143kB 7.9MB/s eta 0:00:01\r\u001b[K     |█████████████████▍              | 153kB 7.9MB/s eta 0:00:01\r\u001b[K     |██████████████████▋             | 163kB 7.9MB/s eta 0:00:01\r\u001b[K     |███████████████████▊            | 174kB 7.9MB/s eta 0:00:01\r\u001b[K     |█████████████████████           | 184kB 7.9MB/s eta 0:00:01\r\u001b[K     |██████████████████████          | 194kB 7.9MB/s eta 0:00:01\r\u001b[K     |███████████████████████▎        | 204kB 7.9MB/s eta 0:00:01\r\u001b[K     |████████████████████████▍       | 215kB 7.9MB/s eta 0:00:01\r\u001b[K     |█████████████████████████▋      | 225kB 7.9MB/s eta 0:00:01\r\u001b[K     |██████████████████████████▊     | 235kB 7.9MB/s eta 0:00:01\r\u001b[K     |███████████████████████████▉    | 245kB 7.9MB/s eta 0:00:01\r\u001b[K     |█████████████████████████████   | 256kB 7.9MB/s eta 0:00:01\r\u001b[K     |██████████████████████████████▏ | 266kB 7.9MB/s eta 0:00:01\r\u001b[K     |███████████████████████████████▍| 276kB 7.9MB/s eta 0:00:01\r\u001b[K     |████████████████████████████████| 286kB 7.9MB/s \n",
            "\u001b[?25hRequirement already satisfied: tqdm in /usr/local/lib/python3.7/dist-packages (from stanza) (4.41.1)\n",
            "Requirement already satisfied: numpy in /usr/local/lib/python3.7/dist-packages (from stanza) (1.19.5)\n",
            "Requirement already satisfied: torch>=1.3.0 in /usr/local/lib/python3.7/dist-packages (from stanza) (1.8.1+cu101)\n",
            "Requirement already satisfied: requests in /usr/local/lib/python3.7/dist-packages (from stanza) (2.23.0)\n",
            "Requirement already satisfied: protobuf in /usr/local/lib/python3.7/dist-packages (from stanza) (3.12.4)\n",
            "Requirement already satisfied: typing-extensions in /usr/local/lib/python3.7/dist-packages (from torch>=1.3.0->stanza) (3.7.4.3)\n",
            "Requirement already satisfied: certifi>=2017.4.17 in /usr/local/lib/python3.7/dist-packages (from requests->stanza) (2020.12.5)\n",
            "Requirement already satisfied: idna<3,>=2.5 in /usr/local/lib/python3.7/dist-packages (from requests->stanza) (2.10)\n",
            "Requirement already satisfied: chardet<4,>=3.0.2 in /usr/local/lib/python3.7/dist-packages (from requests->stanza) (3.0.4)\n",
            "Requirement already satisfied: urllib3!=1.25.0,!=1.25.1,<1.26,>=1.21.1 in /usr/local/lib/python3.7/dist-packages (from requests->stanza) (1.24.3)\n",
            "Requirement already satisfied: six>=1.9 in /usr/local/lib/python3.7/dist-packages (from protobuf->stanza) (1.15.0)\n",
            "Requirement already satisfied: setuptools in /usr/local/lib/python3.7/dist-packages (from protobuf->stanza) (54.2.0)\n",
            "Installing collected packages: stanza\n",
            "Successfully installed stanza-1.2\n"
          ],
          "name": "stdout"
        }
      ]
    },
    {
      "cell_type": "code",
      "metadata": {
        "colab": {
          "base_uri": "https://localhost:8080/"
        },
        "id": "Md0K0qtMIjW9",
        "outputId": "682eb78d-921f-4c72-da4a-c93b7c9b829e"
      },
      "source": [
        "import stanza\n",
        "stanza.download('mr')"
      ],
      "execution_count": null,
      "outputs": [
        {
          "output_type": "stream",
          "text": [
            "Downloading https://raw.githubusercontent.com/stanfordnlp/stanza-resources/master/resources_1.2.0.json: 128kB [00:00, 29.7MB/s]                    \n",
            "2021-04-10 14:14:26 INFO: Downloading default packages for language: mr (Marathi)...\n",
            "Downloading http://nlp.stanford.edu/software/stanza/1.2.0/mr/default.zip: 100%|██████████| 213M/213M [00:36<00:00, 5.90MB/s]\n",
            "2021-04-10 14:15:06 INFO: Finished downloading models and saved to /root/stanza_resources.\n"
          ],
          "name": "stderr"
        }
      ]
    },
    {
      "cell_type": "code",
      "metadata": {
        "id": "VihjyRMHImyw"
      },
      "source": [
        "def Preprocessing_for_Marathi_Language(marathi_text):\n",
        "\n",
        "  #Removing Punctuations\n",
        "  punctuations = '''!()-[]{};:'\"\\, <>./?@#$%^&*_~'''\n",
        "  punctuation_removed_text = marathi_text\n",
        "  for ele in marathi_text:\n",
        "      if ele in punctuations:\n",
        "          punctuation_removed_text = punctuation_removed_text.replace(ele, \" \")\n",
        "\n",
        "  #print(\"Punctuation Removed Text: \",punctuation_removed_text)\n",
        "\n",
        "  #Tokenization\n",
        "  tokenized_text = punctuation_removed_text.split(\" \")\n",
        "  #print(len(tokenized_text))\n",
        "\n",
        "  #Removing Stopwords\n",
        "  stopwords_collection = stopwords('mr')\n",
        "  #print(stopwords('mr'))\n",
        "  #print(len(stopwords_collection))\n",
        "  stopwords_removed_text = []\n",
        "  for i in tokenized_text:\n",
        "      if i not in stopwords_collection:\n",
        "          stopwords_removed_text.append(i)\n",
        "\n",
        "  #Remove Spaces\n",
        "  final_text = []\n",
        "  for i in stopwords_removed_text:\n",
        "      if i != '':\n",
        "          final_text.append(i)\n",
        "  #print(final_text)\n",
        "  #Lemmatlization\n",
        "  nlp = stanza.Pipeline('mr') # This sets up a default neural pipeline in Marathi\n",
        "  #nlp = stanza.Pipeline(lang='mr', processors='tokenize,mwt,pos,lemma')\n",
        "  doc = nlp(marathi_text)\n",
        "  #print(*[f'word: {word.text+\" \"}\\tlemma: {word.lemma}' for sent in doc.sentences for word in sent.words], sep='\\n')\n",
        "  MainWord = []\n",
        "  RootWord = []\n",
        "  # Appending to MainWord\n",
        "  for sent in doc.sentences:\n",
        "      for word in sent.words:\n",
        "          MainWord.append(word.text)\n",
        "\n",
        "  # Appending to RootWord\n",
        "  for sent in doc.sentences:\n",
        "      for word in sent.words:\n",
        "          RootWord.append(word.lemma)\n",
        "\n",
        "  #Final Step\n",
        "  Final_List = final_text\n",
        "  k = 0\n",
        "  for i in Final_List:\n",
        "      m = 0\n",
        "      if i in MainWord:\n",
        "          for j in MainWord:\n",
        "              if j == i:\n",
        "                  Final_List[k] = RootWord[m]\n",
        "                  break\n",
        "              m = m + 1\n",
        "      k = k + 1\n",
        "\n",
        "  #Remove Blank Space\n",
        "  for a in Final_List:\n",
        "      if a == '':\n",
        "          Final_List.remove(a)\n",
        "  print(\"Final List: \",Final_List)\n",
        "  print(\"Length of final list: \",len(Final_List))"
      ],
      "execution_count": null,
      "outputs": []
    },
    {
      "cell_type": "code",
      "metadata": {
        "colab": {
          "base_uri": "https://localhost:8080/"
        },
        "id": "m6mVCUZSI0FT",
        "outputId": "65a77a77-72bb-4b93-dd35-17db09728e24"
      },
      "source": [
        "Preprocessing_for_Marathi_Language(\"\"\"करोनाची लाट दुसरी की पहिलीच, मंदिरे आणि मशिदी, सचिन वाझे आणि महाविकास आघाडी, चार राज्यांतील विधानसभा निवडणुका आणि पक्षांतरे अशा काही अत्यंत जिव्हाळ्याच्या आणि जीवनावश्यक मुद्द्यांपलीकडे पाहण्याची इच्छा आणि बुद्धी शाबूत असणाऱ्यांसाठी हा पुढील तपशील. आणि त्या अनुषंगाने काही महत्त्वाचे मुद्.\"\"\")"
      ],
      "execution_count": null,
      "outputs": [
        {
          "output_type": "stream",
          "text": [
            "2021-04-10 14:18:46 INFO: Loading these models for language: mr (Marathi):\n",
            "=======================\n",
            "| Processor | Package |\n",
            "-----------------------\n",
            "| tokenize  | ufal    |\n",
            "| mwt       | ufal    |\n",
            "| pos       | ufal    |\n",
            "| lemma     | ufal    |\n",
            "| depparse  | ufal    |\n",
            "=======================\n",
            "\n",
            "2021-04-10 14:18:46 INFO: Use device: cpu\n",
            "2021-04-10 14:18:46 INFO: Loading: tokenize\n",
            "2021-04-10 14:18:46 INFO: Loading: mwt\n",
            "2021-04-10 14:18:46 INFO: Loading: pos\n",
            "2021-04-10 14:18:47 INFO: Loading: lemma\n",
            "2021-04-10 14:18:47 INFO: Loading: depparse\n",
            "2021-04-10 14:18:47 INFO: Done loading processors!\n"
          ],
          "name": "stderr"
        },
        {
          "output_type": "stream",
          "text": [
            "Final List:  ['करोनाची', 'लाट', 'दुसरा', 'पहिल', 'मंदिर', 'मशिदी', 'सचिणे', 'वाझे', 'महाविक', 'आघाडी', 'चार', 'राज्यांतील', 'विधानसभा', 'निवडणे', 'पक्ष', 'अशा', 'अत्यंत', 'जिव्हाळ्याच्या', 'जीवनावश्यक', 'मुद्द्यांपलीकडे', 'पाहण्याची', 'इच्छा', 'बुद्धी', 'शाबणे', 'असणाऱ्यांसाठी', 'पुढील', 'तपशी', 'अनुषग', 'महत्त्वाचे', 'मुदणे']\n",
            "Length of final list:  30\n"
          ],
          "name": "stdout"
        }
      ]
    }
  ]
}
